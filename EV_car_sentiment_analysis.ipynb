{
  "nbformat": 4,
  "nbformat_minor": 0,
  "metadata": {
    "colab": {
      "provenance": []
    },
    "kernelspec": {
      "name": "python3",
      "display_name": "Python 3"
    },
    "language_info": {
      "name": "python"
    }
  },
  "cells": [
    {
      "cell_type": "code",
      "execution_count": null,
      "metadata": {
        "id": "P-iXDsJaEQmW"
      },
      "outputs": [],
      "source": [
        "import pandas as pd\n",
        "from bs4 import BeautifulSoup\n",
        "import re\n",
        "import nltk\n",
        "import matplotlib.pyplot as plt\n",
        "from nltk.corpus import stopwords\n",
        "from nltk.stem.wordnet import WordNetLemmatizer\n",
        "from tqdm import tqdm\n",
        "from sklearn.feature_extraction.text import CountVectorizer\n",
        "from sklearn.linear_model import LogisticRegression\n",
        "from sklearn.ensemble import RandomForestClassifier\n",
        "from sklearn.tree import DecisionTreeClassifier\n",
        "from sklearn.naive_bayes import GaussianNB\n",
        "from sklearn.metrics import accuracy_score, classification_report\n",
        "from sklearn.model_selection import train_test_split\n",
        "from textblob import TextBlob\n",
        "from imblearn.over_sampling import SMOTE\n",
        "\n"
      ]
    },
    {
      "cell_type": "code",
      "source": [
        "nltk.download('wordnet')\n",
        "nltk.download('stopwords')\n"
      ],
      "metadata": {
        "colab": {
          "base_uri": "https://localhost:8080/"
        },
        "id": "pu-Zc0RqN7bM",
        "outputId": "e58f0086-2318-41df-9ed1-e04bae362bd5"
      },
      "execution_count": null,
      "outputs": [
        {
          "output_type": "stream",
          "name": "stderr",
          "text": [
            "[nltk_data] Downloading package wordnet to /root/nltk_data...\n",
            "[nltk_data]   Package wordnet is already up-to-date!\n",
            "[nltk_data] Downloading package stopwords to /root/nltk_data...\n",
            "[nltk_data]   Package stopwords is already up-to-date!\n"
          ]
        },
        {
          "output_type": "execute_result",
          "data": {
            "text/plain": [
              "True"
            ]
          },
          "metadata": {},
          "execution_count": 31
        }
      ]
    },
    {
      "cell_type": "code",
      "source": [
        "df = pd.read_excel('/content/drive/MyDrive/Alex/EV_Car_reviews.xlsx')\n",
        "\n",
        "print(df.head())\n",
        "print(df.shape)\n",
        "print(df.isnull().sum())\n",
        "\n"
      ],
      "metadata": {
        "colab": {
          "base_uri": "https://localhost:8080/"
        },
        "id": "ug5Xdg9vN7Yz",
        "outputId": "21638330-85ce-4be3-fec4-7801de8b13a9"
      },
      "execution_count": null,
      "outputs": [
        {
          "output_type": "stream",
          "name": "stdout",
          "text": [
            "       Car  Rating                                             Review\n",
            "0  Kia EV6     5.0  Very good performance car; haven't seen an ele...\n",
            "1  Kia EV6     4.5  The KIA EV6 is a cool and eco-friendly electri...\n",
            "2  Kia EV6     5.0  I don't personally own this car, but a relativ...\n",
            "3  Kia EV6     4.0  KIA EV6 is sporty handling. The Seats are very...\n",
            "4  Kia EV6     5.0  After using this car for more than 6 months, I...\n",
            "(1099, 3)\n",
            "Car       0\n",
            "Rating    0\n",
            "Review    0\n",
            "dtype: int64\n"
          ]
        }
      ]
    },
    {
      "cell_type": "code",
      "source": [
        "def scoringPattern(rating):\n",
        "    if rating > 3:\n",
        "        return 'Positive'\n",
        "    elif rating == 3:\n",
        "        return 'Neutral'\n",
        "    else:\n",
        "        return 'Negative'\n",
        "\n",
        "\n",
        "df['Sentiment'] = df['Rating'].map(scoringPattern)\n",
        "\n",
        "\n",
        "ax = df['Sentiment'].value_counts().plot(kind='bar')\n",
        "ax.bar_label(ax.containers[0])\n",
        "plt.title(\"Sentiment Distribution\")\n",
        "plt.show()\n",
        "\n"
      ],
      "metadata": {
        "colab": {
          "base_uri": "https://localhost:8080/",
          "height": 520
        },
        "id": "SnxUiV1NN7WD",
        "outputId": "d93002d4-a989-4e0a-c334-052683e50620"
      },
      "execution_count": null,
      "outputs": [
        {
          "output_type": "display_data",
          "data": {
            "text/plain": [
              "<Figure size 640x480 with 1 Axes>"
            ],
            "image/png": "[encoded data removed]"
          },
          "metadata": {}
        }
      ]
    },
    {
      "cell_type": "code",
      "source": [
        "def removeHTMLTags(review):\n",
        "    soup = BeautifulSoup(review, 'lxml')\n",
        "    return soup.get_text()\n",
        "\n",
        "def remove_apostrophes(review):\n",
        "    review = re.sub(r\"won't\", \"will not\", review)\n",
        "    review = re.sub(r\"can't\", \"cannot\", review)\n",
        "    review = re.sub(r\"n't\", \" not\", review)\n",
        "    review = re.sub(r\"'re\", \" are\", review)\n",
        "    review = re.sub(r\"'s\", \" is\", review)\n",
        "    review = re.sub(r\"'d\", \" would\", review)\n",
        "    review = re.sub(r\"'ll\", \" will\", review)\n",
        "    review = re.sub(r\"'ve\", \" have\", review)\n",
        "    review = re.sub(r\"'m\", \" am\", review)\n",
        "    return review\n",
        "\n",
        "def removeAlphaNumeric(review):\n",
        "    return re.sub(r\"\\S*\\d\\S*\", \" \", review).strip()\n",
        "\n",
        "def removeSpecialchars(review):\n",
        "    return re.sub(r\"[^a-zA-Z]\", \" \", review)\n",
        "\n",
        "def textcleaning(review):\n",
        "    review = removeHTMLTags(review)\n",
        "    review = remove_apostrophes(review)\n",
        "    review = removeAlphaNumeric(review)\n",
        "    review = removeSpecialchars(review)\n",
        "    review = review.lower()\n",
        "    review = review.split()\n",
        "    lmtzr = WordNetLemmatizer()\n",
        "    review = [lmtzr.lemmatize(word, 'v') for word in review if word not in set(stopwords.words('english'))]\n",
        "    return \" \".join(review)\n"
      ],
      "metadata": {
        "id": "m--S_DSRN7TO"
      },
      "execution_count": null,
      "outputs": []
    },
    {
      "cell_type": "code",
      "source": [
        "corpus = []\n",
        "for index, row in tqdm(df.iterrows(), total=df.shape[0]):\n",
        "    review = textcleaning(row['Review'])\n",
        "    corpus.append(review)\n",
        "\n",
        "print(corpus[0])\n"
      ],
      "metadata": {
        "colab": {
          "base_uri": "https://localhost:8080/"
        },
        "id": "pPFxsB7MN7Qk",
        "outputId": "dda4b260-5479-4bf3-f293-e847a47084ec"
      },
      "execution_count": null,
      "outputs": [
        {
          "output_type": "stream",
          "name": "stderr",
          "text": [
            "  2%|▏         | 17/1099 [00:00<00:06, 167.27it/s]<ipython-input-34-4b375c015074>:2: MarkupResemblesLocatorWarning: The input looks more like a filename than markup. You may want to open this file and pass the filehandle into Beautiful Soup.\n",
            "  soup = BeautifulSoup(review, 'lxml')\n",
            "100%|██████████| 1099/1099 [00:07<00:00, 141.70it/s]"
          ]
        },
        {
          "output_type": "stream",
          "name": "stdout",
          "text": [
            "good performance car see electric vehicle like incredible look even greater audi bmw mercedes\n"
          ]
        },
        {
          "output_type": "stream",
          "name": "stderr",
          "text": [
            "\n"
          ]
        }
      ]
    },
    {
      "cell_type": "code",
      "source": [
        "cv = CountVectorizer(ngram_range=(1, 3), max_features=5000)\n",
        "x = cv.fit_transform(corpus).toarray()\n",
        "y = df['Sentiment'].values\n",
        "\n",
        "\n",
        "print(x.shape)\n"
      ],
      "metadata": {
        "colab": {
          "base_uri": "https://localhost:8080/"
        },
        "id": "dSZ2jVVuN7Nu",
        "outputId": "a7587abd-dd57-4638-9c97-fb05cbb395d2"
      },
      "execution_count": null,
      "outputs": [
        {
          "output_type": "stream",
          "name": "stdout",
          "text": [
            "(1099, 5000)\n"
          ]
        }
      ]
    },
    {
      "cell_type": "code",
      "source": [
        "x_train, x_test, y_train, y_test = train_test_split(x, y, test_size=0.20, random_state=42)\n",
        "\n",
        "print(x_train.shape, x_test.shape)\n",
        "\n"
      ],
      "metadata": {
        "colab": {
          "base_uri": "https://localhost:8080/"
        },
        "id": "3kkFzrOsN7K3",
        "outputId": "b3e942a7-e79f-4700-91db-4237792d873e"
      },
      "execution_count": null,
      "outputs": [
        {
          "output_type": "stream",
          "name": "stdout",
          "text": [
            "(879, 5000) (220, 5000)\n"
          ]
        }
      ]
    },
    {
      "cell_type": "code",
      "source": [
        "smote = SMOTE(sampling_strategy='auto', random_state=42, k_neighbors=2)\n",
        "x_train_resampled, y_train_resampled = smote.fit_resample(x_train, y_train)\n",
        "\n",
        "print(pd.Series(y_train_resampled).value_counts())\n",
        "\n"
      ],
      "metadata": {
        "colab": {
          "base_uri": "https://localhost:8080/"
        },
        "id": "pvhA3r6GN7IK",
        "outputId": "77bf5e2e-9f39-4b03-8575-f8de8f09721a"
      },
      "execution_count": null,
      "outputs": [
        {
          "output_type": "stream",
          "name": "stdout",
          "text": [
            "Positive    862\n",
            "Negative    862\n",
            "Neutral     862\n",
            "Name: count, dtype: int64\n"
          ]
        }
      ]
    },
    {
      "cell_type": "code",
      "source": [
        "models = {\n",
        "    'Logistic Regression': LogisticRegression(max_iter=500),\n",
        "    'Decision Tree': DecisionTreeClassifier(),\n",
        "    'Random Forest': RandomForestClassifier(),\n",
        "    'Gaussian Naive Bayes': GaussianNB()\n",
        "}\n",
        "\n",
        "\n",
        "accuracies = {}\n",
        "for name, model in models.items():\n",
        "    model.fit(x_train_resampled, y_train_resampled)\n",
        "    y_pred = model.predict(x_test)\n",
        "    accuracy = accuracy_score(y_test, y_pred)\n",
        "    accuracies[name] = accuracy\n",
        "    print(f\"\\nModel: {name}\")\n",
        "    print(f\"Accuracy: {accuracy:.2f}\")\n",
        "    print(\"Classification Report:\")\n",
        "    print(classification_report(y_test, y_pred))\n",
        "\n"
      ],
      "metadata": {
        "colab": {
          "base_uri": "https://localhost:8080/"
        },
        "id": "bWEFp6EfN7FU",
        "outputId": "c546cf42-e38a-4836-a6df-08f2091f74fe"
      },
      "execution_count": null,
      "outputs": [
        {
          "output_type": "stream",
          "name": "stdout",
          "text": [
            "\n",
            "Model: Logistic Regression\n",
            "Accuracy: 0.97\n",
            "Classification Report:\n",
            "              precision    recall  f1-score   support\n",
            "\n",
            "    Negative       0.17      1.00      0.29         1\n",
            "     Neutral       0.00      0.00      0.00         0\n",
            "    Positive       1.00      0.97      0.99       219\n",
            "\n",
            "    accuracy                           0.97       220\n",
            "   macro avg       0.39      0.66      0.42       220\n",
            "weighted avg       1.00      0.97      0.98       220\n",
            "\n"
          ]
        },
        {
          "output_type": "stream",
          "name": "stderr",
          "text": [
            "/usr/local/lib/python3.10/dist-packages/sklearn/metrics/_classification.py:1531: UndefinedMetricWarning: Recall is ill-defined and being set to 0.0 in labels with no true samples. Use `zero_division` parameter to control this behavior.\n",
            "  _warn_prf(average, modifier, f\"{metric.capitalize()} is\", len(result))\n",
            "/usr/local/lib/python3.10/dist-packages/sklearn/metrics/_classification.py:1531: UndefinedMetricWarning: Recall is ill-defined and being set to 0.0 in labels with no true samples. Use `zero_division` parameter to control this behavior.\n",
            "  _warn_prf(average, modifier, f\"{metric.capitalize()} is\", len(result))\n",
            "/usr/local/lib/python3.10/dist-packages/sklearn/metrics/_classification.py:1531: UndefinedMetricWarning: Recall is ill-defined and being set to 0.0 in labels with no true samples. Use `zero_division` parameter to control this behavior.\n",
            "  _warn_prf(average, modifier, f\"{metric.capitalize()} is\", len(result))\n"
          ]
        },
        {
          "output_type": "stream",
          "name": "stdout",
          "text": [
            "\n",
            "Model: Decision Tree\n",
            "Accuracy: 0.97\n",
            "Classification Report:\n",
            "              precision    recall  f1-score   support\n",
            "\n",
            "    Negative       0.00      0.00      0.00         1\n",
            "     Neutral       0.00      0.00      0.00         0\n",
            "    Positive       1.00      0.98      0.99       219\n",
            "\n",
            "    accuracy                           0.97       220\n",
            "   macro avg       0.33      0.33      0.33       220\n",
            "weighted avg       0.99      0.97      0.98       220\n",
            "\n"
          ]
        },
        {
          "output_type": "stream",
          "name": "stderr",
          "text": [
            "/usr/local/lib/python3.10/dist-packages/sklearn/metrics/_classification.py:1531: UndefinedMetricWarning: Recall is ill-defined and being set to 0.0 in labels with no true samples. Use `zero_division` parameter to control this behavior.\n",
            "  _warn_prf(average, modifier, f\"{metric.capitalize()} is\", len(result))\n",
            "/usr/local/lib/python3.10/dist-packages/sklearn/metrics/_classification.py:1531: UndefinedMetricWarning: Recall is ill-defined and being set to 0.0 in labels with no true samples. Use `zero_division` parameter to control this behavior.\n",
            "  _warn_prf(average, modifier, f\"{metric.capitalize()} is\", len(result))\n",
            "/usr/local/lib/python3.10/dist-packages/sklearn/metrics/_classification.py:1531: UndefinedMetricWarning: Recall is ill-defined and being set to 0.0 in labels with no true samples. Use `zero_division` parameter to control this behavior.\n",
            "  _warn_prf(average, modifier, f\"{metric.capitalize()} is\", len(result))\n"
          ]
        },
        {
          "output_type": "stream",
          "name": "stdout",
          "text": [
            "\n",
            "Model: Random Forest\n",
            "Accuracy: 0.98\n",
            "Classification Report:\n",
            "              precision    recall  f1-score   support\n",
            "\n",
            "    Negative       0.00      0.00      0.00         1\n",
            "     Neutral       0.00      0.00      0.00         0\n",
            "    Positive       1.00      0.98      0.99       219\n",
            "\n",
            "    accuracy                           0.98       220\n",
            "   macro avg       0.33      0.33      0.33       220\n",
            "weighted avg       0.99      0.98      0.98       220\n",
            "\n"
          ]
        },
        {
          "output_type": "stream",
          "name": "stderr",
          "text": [
            "/usr/local/lib/python3.10/dist-packages/sklearn/metrics/_classification.py:1531: UndefinedMetricWarning: Recall is ill-defined and being set to 0.0 in labels with no true samples. Use `zero_division` parameter to control this behavior.\n",
            "  _warn_prf(average, modifier, f\"{metric.capitalize()} is\", len(result))\n",
            "/usr/local/lib/python3.10/dist-packages/sklearn/metrics/_classification.py:1531: UndefinedMetricWarning: Recall is ill-defined and being set to 0.0 in labels with no true samples. Use `zero_division` parameter to control this behavior.\n",
            "  _warn_prf(average, modifier, f\"{metric.capitalize()} is\", len(result))\n",
            "/usr/local/lib/python3.10/dist-packages/sklearn/metrics/_classification.py:1531: UndefinedMetricWarning: Recall is ill-defined and being set to 0.0 in labels with no true samples. Use `zero_division` parameter to control this behavior.\n",
            "  _warn_prf(average, modifier, f\"{metric.capitalize()} is\", len(result))\n"
          ]
        },
        {
          "output_type": "stream",
          "name": "stdout",
          "text": [
            "\n",
            "Model: Gaussian Naive Bayes\n",
            "Accuracy: 1.00\n",
            "Classification Report:\n",
            "              precision    recall  f1-score   support\n",
            "\n",
            "    Negative       0.00      0.00      0.00         1\n",
            "    Positive       1.00      1.00      1.00       219\n",
            "\n",
            "    accuracy                           1.00       220\n",
            "   macro avg       0.50      0.50      0.50       220\n",
            "weighted avg       0.99      1.00      0.99       220\n",
            "\n"
          ]
        },
        {
          "output_type": "stream",
          "name": "stderr",
          "text": [
            "/usr/local/lib/python3.10/dist-packages/sklearn/metrics/_classification.py:1531: UndefinedMetricWarning: Precision is ill-defined and being set to 0.0 in labels with no predicted samples. Use `zero_division` parameter to control this behavior.\n",
            "  _warn_prf(average, modifier, f\"{metric.capitalize()} is\", len(result))\n",
            "/usr/local/lib/python3.10/dist-packages/sklearn/metrics/_classification.py:1531: UndefinedMetricWarning: Precision is ill-defined and being set to 0.0 in labels with no predicted samples. Use `zero_division` parameter to control this behavior.\n",
            "  _warn_prf(average, modifier, f\"{metric.capitalize()} is\", len(result))\n",
            "/usr/local/lib/python3.10/dist-packages/sklearn/metrics/_classification.py:1531: UndefinedMetricWarning: Precision is ill-defined and being set to 0.0 in labels with no predicted samples. Use `zero_division` parameter to control this behavior.\n",
            "  _warn_prf(average, modifier, f\"{metric.capitalize()} is\", len(result))\n"
          ]
        }
      ]
    },
    {
      "cell_type": "code",
      "source": [
        "plt.figure(figsize=(8, 5))\n",
        "plt.bar(accuracies.keys(), accuracies.values(), color='skyblue')\n",
        "plt.title('Model Accuracies for Sentiment Analysis')\n",
        "plt.ylabel('Accuracy')\n",
        "plt.xticks(rotation=45)\n",
        "plt.show()\n",
        "\n"
      ],
      "metadata": {
        "colab": {
          "base_uri": "https://localhost:8080/",
          "height": 572
        },
        "id": "sSBHEwxoN7Ci",
        "outputId": "ede21cce-0759-46fc-e365-399066bba0f0"
      },
      "execution_count": null,
      "outputs": [
        {
          "output_type": "display_data",
          "data": {
            "text/plain": [
              "<Figure size 800x500 with 1 Axes>"
            ],
            "image/png": "[encoded data removed]"
          },
          "metadata": {}
        }
      ]
    },
    {
      "cell_type": "code",
      "source": [
        "def predictnewreview():\n",
        "    newreview = input(\"Type the review: \")\n",
        "    if not newreview.strip():\n",
        "        print(\"Invalid Review\")\n",
        "        return\n",
        "    newreview = textcleaning(newreview)\n",
        "    newreview = cv.transform([newreview]).toarray()\n",
        "    prediction = models['Logistic Regression'].predict(newreview)\n",
        "    print(f\"The sentiment for the given review is: {prediction[0]}\")\n",
        "\n",
        "\n",
        "predictnewreview()\n",
        "\n"
      ],
      "metadata": {
        "colab": {
          "base_uri": "https://localhost:8080/"
        },
        "id": "DUKRManTN6_v",
        "outputId": "950d0125-0644-4842-c26a-0e6d2e3a5511"
      },
      "execution_count": null,
      "outputs": [
        {
          "output_type": "stream",
          "name": "stdout",
          "text": [
            "Type the review: This car has been a joy to drive! The ride quality is excellent, and I feel secure on the road, thanks to its advanced safety features. It’s easy to park and maneuver, and the fuel economy is impressive for a vehicle of this size. Very happy with my purchase!\n",
            "The sentiment for the given review is: Positive\n"
          ]
        }
      ]
    },
    {
      "cell_type": "code",
      "source": [
        "def predictnewreview():\n",
        "    newreview = input(\"Type the review: \")\n",
        "    if not newreview.strip():\n",
        "        print(\"Invalid Review\")\n",
        "        return\n",
        "    newreview = textcleaning(newreview)\n",
        "    newreview = cv.transform([newreview]).toarray()\n",
        "    prediction = models['Logistic Regression'].predict(newreview)\n",
        "    print(f\"The sentiment for the given review is: {prediction[0]}\")\n",
        "\n",
        "\n",
        "predictnewreview()\n",
        "\n"
      ],
      "metadata": {
        "colab": {
          "base_uri": "https://localhost:8080/"
        },
        "id": "2MYhEJH4N68y",
        "outputId": "73ea710e-f1b8-471d-8ddf-6206a3c9c6ce"
      },
      "execution_count": null,
      "outputs": [
        {
          "output_type": "stream",
          "name": "stdout",
          "text": [
            "Type the review: I regret buying this car. The engine has poor acceleration, and it feels sluggish when trying to merge onto highways. The air conditioning system doesn’t cool the cabin fast enough. Additionally, the sound system is disappointing for a car in this price range.\n",
            "The sentiment for the given review is: Negative\n"
          ]
        }
      ]
    },
    {
      "cell_type": "code",
      "source": [],
      "metadata": {
        "id": "wpt9CQnhN6u-"
      },
      "execution_count": null,
      "outputs": []
    },
    {
      "cell_type": "code",
      "source": [],
      "metadata": {
        "id": "oG0S7fmWN6sS"
      },
      "execution_count": null,
      "outputs": []
    },
    {
      "cell_type": "code",
      "source": [],
      "metadata": {
        "id": "jPZ3vjlIN6pa"
      },
      "execution_count": null,
      "outputs": []
    },
    {
      "cell_type": "code",
      "source": [],
      "metadata": {
        "id": "aZKX-E3kN6mo"
      },
      "execution_count": null,
      "outputs": []
    },
    {
      "cell_type": "code",
      "source": [],
      "metadata": {
        "id": "NVoMFQKIN6j1"
      },
      "execution_count": null,
      "outputs": []
    },
    {
      "cell_type": "code",
      "source": [],
      "metadata": {
        "id": "ZMajcEDTN6g-"
      },
      "execution_count": null,
      "outputs": []
    },
    {
      "cell_type": "code",
      "source": [],
      "metadata": {
        "id": "afw2UbXwN6eQ"
      },
      "execution_count": null,
      "outputs": []
    },
    {
      "cell_type": "code",
      "source": [],
      "metadata": {
        "id": "s8BpOUqXN6bu"
      },
      "execution_count": null,
      "outputs": []
    },
    {
      "cell_type": "code",
      "source": [],
      "metadata": {
        "id": "bumT7fodN6Y3"
      },
      "execution_count": null,
      "outputs": []
    },
    {
      "cell_type": "code",
      "source": [],
      "metadata": {
        "id": "4cWdsECiN6WQ"
      },
      "execution_count": null,
      "outputs": []
    },
    {
      "cell_type": "code",
      "source": [],
      "metadata": {
        "id": "rLOTWFu8N6TX"
      },
      "execution_count": null,
      "outputs": []
    },
    {
      "cell_type": "code",
      "source": [],
      "metadata": {
        "id": "Lp_ANyarN6Qj"
      },
      "execution_count": null,
      "outputs": []
    },
    {
      "cell_type": "code",
      "source": [],
      "metadata": {
        "id": "OTNGu0eiN6N6"
      },
      "execution_count": null,
      "outputs": []
    }
  ]
}